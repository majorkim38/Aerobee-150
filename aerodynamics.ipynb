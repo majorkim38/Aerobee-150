{
 "cells": [
  {
   "cell_type": "raw",
   "metadata": {},
   "source": [
    "---\n",
    "title: Look at\n",
    "layout: notebook\n",
    "---"
   ]
  },
  {
   "cell_type": "markdown",
   "metadata": {},
   "source": [
    "# Aerobee 150A Aerodynamics\n",
    "\n",
    "A look."
   ]
  },
  {
   "cell_type": "code",
   "execution_count": null,
   "metadata": {
    "collapsed": true
   },
   "outputs": [],
   "source": [
    "# Dependencies\n",
    "import csv\n",
    "import matplotlib.pyplot as plt\n",
    "from IPython.display import Image\n",
    "%matplotlib inline"
   ]
  },
  {
   "cell_type": "code",
   "execution_count": null,
   "metadata": {
    "collapsed": false
   },
   "outputs": [],
   "source": [
    "# Load Data\n",
    "\n",
    "# From \"Sounding Rockets\"\n",
    "aerobee_sustainer_poweron_mach = []\n",
    "aerobee_sustainer_poweron_CD = []\n",
    "with open('data/CD_sustainer_poweron.csv', 'r') as f:\n",
    "    reader = csv.reader(f)\n",
    "    for row in reader:\n",
    "        aerobee_sustainer_poweron_mach.append(row[0])\n",
    "        aerobee_sustainer_poweron_CD.append(row[1])\n",
    "        \n",
    "aerobee_sustainer_poweroff_mach = []\n",
    "aerobee_sustainer_poweroff_CD = []\n",
    "with open('data/CD_sustainer_poweroff.csv', 'r') as f:\n",
    "    reader = csv.reader(f)\n",
    "    for row in reader:\n",
    "        aerobee_sustainer_poweroff_mach.append(row[0])\n",
    "        aerobee_sustainer_poweroff_CD.append(row[1])\n",
    "\n",
    "\n",
    "# RASAero II\n",
    "rasaero_mach = []\n",
    "rasaero_poweron_CD = []\n",
    "rasaero_poweroff_CD = []\n",
    "with open('simulation/RASAeroII/aerodynamics-aerobee150A.CSV', 'r') as f:\n",
    "    reader = csv.reader(f)\n",
    "    next(reader, None)  # skip the header\n",
    "    for row in reader:\n",
    "        alpha = float(row[1])\n",
    "        if alpha > 0: break\n",
    "        rasaero_mach.append(row[0])\n",
    "        rasaero_poweron_CD.append(row[4])\n",
    "        rasaero_poweroff_CD.append(row[3])\n",
    "\n",
    "\n",
    "# OpenRocket\n",
    "openrocket_mach = []\n",
    "openrocket_CD = []\n",
    "with open('simulation/OpenRocket/aerodynamics-aerobee150A.csv', 'r') as f:\n",
    "    reader = csv.reader(f)\n",
    "    next(reader, None)  # skip the header\n",
    "    for row in reader:\n",
    "        openrocket_mach.append(row[0])\n",
    "        openrocket_CD.append(row[1])"
   ]
  },
  {
   "cell_type": "code",
   "execution_count": null,
   "metadata": {
    "collapsed": false
   },
   "outputs": [],
   "source": [
    "Image(filename='data/CD.png') "
   ]
  },
  {
   "cell_type": "code",
   "execution_count": null,
   "metadata": {
    "collapsed": false
   },
   "outputs": [],
   "source": [
    "# Chart compairison\n",
    "fig, ax1 = plt.subplots(figsize=(20,8))\n",
    "plt.title(r\"Coefficient of Drag ($\\mathrm{C}_D$) vs. Mach Number\")\n",
    "plt.ylabel(r\"$\\mathrm{C}_D$\")\n",
    "plt.xlabel(r\"Mach No. [Mach]\")\n",
    "\n",
    "ax1.plot(aerobee_sustainer_poweron_mach, aerobee_sustainer_poweron_CD, color='k', lw=2.3, label=\"NASA: Power On\")\n",
    "ax1.plot(aerobee_sustainer_poweroff_mach, aerobee_sustainer_poweroff_CD, 'k--', lw=2.3, label=\"NASA: Power Off\")\n",
    "\n",
    "ax1.plot(rasaero_mach, rasaero_poweron_CD, 'r', alpha=0.7, label=\"RASAero II Power On\")\n",
    "ax1.plot(rasaero_mach[200:], rasaero_poweroff_CD[200:], 'b--', alpha=1, label=\"RASAero II Power Off\")\n",
    "\n",
    "ax1.plot(openrocket_mach, openrocket_CD, 'g-', alpha=0.8, label=\"OpenRocket\")\n",
    "\n",
    "ax1.legend(loc=1)\n",
    "plt.ylim([0,1.0])\n",
    "plt.xlim([0,7])\n",
    "plt.show()"
   ]
  },
  {
   "cell_type": "markdown",
   "metadata": {},
   "source": []
  }
 ],
 "metadata": {
  "kernelspec": {
   "display_name": "Python 3",
   "language": "python",
   "name": "python3"
  },
  "language_info": {
   "codemirror_mode": {
    "name": "ipython",
    "version": 3
   },
   "file_extension": ".py",
   "mimetype": "text/x-python",
   "name": "python",
   "nbconvert_exporter": "python",
   "pygments_lexer": "ipython3",
   "version": "3.4.4"
  }
 },
 "nbformat": 4,
 "nbformat_minor": 0
}
